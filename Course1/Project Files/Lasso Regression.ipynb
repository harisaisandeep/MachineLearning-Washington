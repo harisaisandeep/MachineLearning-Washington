{
 "cells": [
  {
   "cell_type": "markdown",
   "metadata": {},
   "source": [
    "##Start of week 5 - Lasso Regression"
   ]
  },
  {
   "cell_type": "code",
   "execution_count": null,
   "metadata": {
    "collapsed": true
   },
   "outputs": [],
   "source": []
  },
  {
   "cell_type": "code",
   "execution_count": 493,
   "metadata": {
    "collapsed": false
   },
   "outputs": [],
   "source": [
    "import graphlab"
   ]
  },
  {
   "cell_type": "code",
   "execution_count": 494,
   "metadata": {
    "collapsed": false
   },
   "outputs": [],
   "source": [
    "sales  =graphlab.SFrame('ML Projects\\Course 2\\week2\\Assignment2\\kc_house_data.gl')"
   ]
  },
  {
   "cell_type": "code",
   "execution_count": 495,
   "metadata": {
    "collapsed": false
   },
   "outputs": [],
   "source": [
    "from math import log,sqrt\n",
    "sales['sqft_living_sqrt'] = sales['sqft_living'].apply(sqrt)\n",
    "sales['sqft_lot_sqrt'] = sales['sqft_lot'].apply(sqrt)\n",
    "sales['bedrooms_square'] = sales['bedrooms']*sales['bedrooms']\n",
    "##here floors are of type string. So we convert that to float using .astype(float)\n",
    "sales['floors'] = sales['floors'].astype(float) \n",
    "sales['floors_square'] = sales['floors']*sales['floors']"
   ]
  },
  {
   "cell_type": "code",
   "execution_count": 496,
   "metadata": {
    "collapsed": false
   },
   "outputs": [],
   "source": [
    "all_features = ['bedrooms', 'bedrooms_square',\n",
    "            'bathrooms',\n",
    "            'sqft_living', 'sqft_living_sqrt',\n",
    "            'sqft_lot', 'sqft_lot_sqrt',\n",
    "            'floors', 'floors_square',\n",
    "            'waterfront', 'view', 'condition', 'grade',\n",
    "            'sqft_above',\n",
    "            'sqft_basement',\n",
    "            'yr_built', 'yr_renovated']"
   ]
  },
  {
   "cell_type": "code",
   "execution_count": 497,
   "metadata": {
    "collapsed": false
   },
   "outputs": [],
   "source": [
    "model_all = graphlab.linear_regression.create(sales, target='price', features=all_features,\n",
    "                                              validation_set=None, \n",
    "                                              l2_penalty=0., l1_penalty=1e10,verbose = False)"
   ]
  },
  {
   "cell_type": "code",
   "execution_count": 498,
   "metadata": {
    "collapsed": false
   },
   "outputs": [
    {
     "name": "stdout",
     "output_type": "stream",
     "text": [
      "+------------------+-------+---------------+--------+\n",
      "|       name       | index |     value     | stderr |\n",
      "+------------------+-------+---------------+--------+\n",
      "|   (intercept)    |  None |  274873.05595 |  None  |\n",
      "|    bathrooms     |  None | 8468.53108691 |  None  |\n",
      "|   sqft_living    |  None | 24.4207209824 |  None  |\n",
      "| sqft_living_sqrt |  None | 350.060553386 |  None  |\n",
      "|      grade       |  None | 842.068034898 |  None  |\n",
      "|    sqft_above    |  None | 20.0247224171 |  None  |\n",
      "+------------------+-------+---------------+--------+\n",
      "[? rows x 4 columns]\n",
      "Note: Only the head of the SFrame is printed. This SFrame is lazily evaluated.\n",
      "You can use len(sf) to force materialization.\n",
      "6\n"
     ]
    }
   ],
   "source": [
    "y = model_all.get(\"coefficients\")\n",
    "print y[y['value']>0]\n",
    "print model_all[\"coefficients\"]['value'].nnz()"
   ]
  },
  {
   "cell_type": "code",
   "execution_count": 499,
   "metadata": {
    "collapsed": true
   },
   "outputs": [],
   "source": [
    "train_valid,test = sales.random_split(.9,seed=1)\n",
    "train,valid = train_valid.random_split(.5,seed=1)"
   ]
  },
  {
   "cell_type": "code",
   "execution_count": 500,
   "metadata": {
    "collapsed": false
   },
   "outputs": [
    {
     "name": "stdout",
     "output_type": "stream",
     "text": [
      "6.25766285142e+14\n",
      "10.0\n"
     ]
    }
   ],
   "source": [
    "import numpy as np\n",
    "l1_array = np.logspace(1,7,num=13)\n",
    "low_rss=0\n",
    "l1=0\n",
    "for l1_penaltys in l1_array:\n",
    "    model = graphlab.linear_regression.create(train,target = 'price',features=all_features,l1_penalty=l1_penaltys\n",
    "                                             ,l2_penalty =0.,validation_set=None,verbose=False)\n",
    "    valid_predict = model.predict(valid)\n",
    "    error = valid_predict - valid['price']\n",
    "    rss = (error*error).sum()\n",
    "    if(l1_penaltys==l1_array[0]):\n",
    "        low_rss = rss\n",
    "        l1 = l1_penaltys\n",
    "        modelx = model\n",
    "    else:\n",
    "        if(rss<low_rss):\n",
    "            low_rss = rss\n",
    "            l1 = l1_penaltys\n",
    "            modelx = model\n",
    "print low_rss\n",
    "print l1\n",
    "\n",
    "        "
   ]
  },
  {
   "cell_type": "code",
   "execution_count": 501,
   "metadata": {
    "collapsed": false
   },
   "outputs": [
    {
     "data": {
      "text/plain": [
       "18"
      ]
     },
     "execution_count": 501,
     "metadata": {},
     "output_type": "execute_result"
    }
   ],
   "source": [
    "modelx[\"coefficients\"][\"value\"].nnz()"
   ]
  },
  {
   "cell_type": "code",
   "execution_count": 502,
   "metadata": {
    "collapsed": false
   },
   "outputs": [
    {
     "name": "stdout",
     "output_type": "stream",
     "text": [
      "1.56972779669e+14\n"
     ]
    }
   ],
   "source": [
    "model_for_l1 = graphlab.linear_regression.create(train,target = 'price',features=all_features,l1_penalty=10000000.0\n",
    "                                             ,l2_penalty =0.0,validation_set=None,verbose=False)\n",
    "test_predict =  model_for_l1.predict(test)\n",
    "error  =test_predict-test['price']\n",
    "rss_test= (error*error).sum()\n",
    "print rss_test"
   ]
  },
  {
   "cell_type": "code",
   "execution_count": 503,
   "metadata": {
    "collapsed": false
   },
   "outputs": [
    {
     "name": "stdout",
     "output_type": "stream",
     "text": [
      "17\n"
     ]
    }
   ],
   "source": [
    "x = model_for_l1.get(\"coefficients\") \n",
    "print len(x[x['value']>0])"
   ]
  },
  {
   "cell_type": "markdown",
   "metadata": {},
   "source": [
    "####Limiting no of non Zero values for coefficients"
   ]
  },
  {
   "cell_type": "code",
   "execution_count": 504,
   "metadata": {
    "collapsed": true
   },
   "outputs": [],
   "source": [
    "max_nonzeros = 7"
   ]
  },
  {
   "cell_type": "code",
   "execution_count": 505,
   "metadata": {
    "collapsed": false
   },
   "outputs": [
    {
     "data": {
      "text/plain": [
       "array([  1.00000000e+08,   1.27427499e+08,   1.62377674e+08,\n",
       "         2.06913808e+08,   2.63665090e+08,   3.35981829e+08,\n",
       "         4.28133240e+08,   5.45559478e+08,   6.95192796e+08,\n",
       "         8.85866790e+08,   1.12883789e+09,   1.43844989e+09,\n",
       "         1.83298071e+09,   2.33572147e+09,   2.97635144e+09,\n",
       "         3.79269019e+09,   4.83293024e+09,   6.15848211e+09,\n",
       "         7.84759970e+09,   1.00000000e+10])"
      ]
     },
     "execution_count": 505,
     "metadata": {},
     "output_type": "execute_result"
    }
   ],
   "source": [
    "l1_penalty_values = np.logspace(8, 10, num=20)\n",
    "l1_penalty_values"
   ]
  },
  {
   "cell_type": "code",
   "execution_count": 506,
   "metadata": {
    "collapsed": false
   },
   "outputs": [
    {
     "name": "stdout",
     "output_type": "stream",
     "text": [
      "[18, 18, 18, 18, 17, 17, 17, 17, 17, 16, 15, 15, 13, 12, 10, 6, 5, 3, 1, 1]\n"
     ]
    }
   ],
   "source": [
    "low_rss_l=0\n",
    "l1_l=0\n",
    "array_of_non_zeros =[]\n",
    "for l1_penalty in l1_penalty_values:\n",
    "    model = graphlab.linear_regression.create(train,target = 'price',features=all_features,l1_penalty=l1_penalty\n",
    "                                             ,l2_penalty =0.0,validation_set=None,verbose=False)\n",
    "#     valid_predict = model.predict(valid)\n",
    "#     error = valid_predict - valid['price']\n",
    "#     rss = (error*error).sum()\n",
    "#     if(l1_penalty==l1_array[0]):\n",
    "#         low_rss_l = rss\n",
    "#         l1_l = l1_penalty\n",
    "#     else:\n",
    "#         if(rss<low_rss):\n",
    "#             low_rss_l = rss\n",
    "#             l1_l = l1_penalty\n",
    "# print low_rss_l\n",
    "# print l1_l\n",
    "    array = model['coefficients']['value']\n",
    "    array_of_non_zeros.insert(len(array_of_non_zeros),array.nnz())   #nnz() goives us non-xero parameters count\n",
    "print array_of_non_zeros\n",
    "\n",
    "        "
   ]
  },
  {
   "cell_type": "code",
   "execution_count": 507,
   "metadata": {
    "collapsed": false
   },
   "outputs": [
    {
     "data": {
      "text/plain": [
       "14"
      ]
     },
     "execution_count": 507,
     "metadata": {},
     "output_type": "execute_result"
    }
   ],
   "source": [
    "array_of_non_zeros.index(10)"
   ]
  },
  {
   "cell_type": "code",
   "execution_count": 508,
   "metadata": {
    "collapsed": false
   },
   "outputs": [
    {
     "data": {
      "text/plain": [
       "2976351441.6313128"
      ]
     },
     "execution_count": 508,
     "metadata": {},
     "output_type": "execute_result"
    }
   ],
   "source": [
    "l1_penalty_min = l1_penalty_values[14]\n",
    "l1_penalty_min"
   ]
  },
  {
   "cell_type": "code",
   "execution_count": 509,
   "metadata": {
    "collapsed": false
   },
   "outputs": [
    {
     "data": {
      "text/plain": [
       "3792690190.7322536"
      ]
     },
     "execution_count": 509,
     "metadata": {},
     "output_type": "execute_result"
    }
   ],
   "source": [
    "l1_penalty_max = l1_penalty_values[array_of_non_zeros.index(6)]\n",
    "l1_penalty_max"
   ]
  },
  {
   "cell_type": "markdown",
   "metadata": {},
   "source": [
    "###Exploring the narrow range of values to find the solution with the right number of non-zeros that has lowest RSS on the validation set"
   ]
  },
  {
   "cell_type": "code",
   "execution_count": 510,
   "metadata": {
    "collapsed": false
   },
   "outputs": [
    {
     "data": {
      "text/plain": [
       "array([  2.97635144e+09,   3.01931664e+09,   3.06228184e+09,\n",
       "         3.10524703e+09,   3.14821223e+09,   3.19117743e+09,\n",
       "         3.23414263e+09,   3.27710782e+09,   3.32007302e+09,\n",
       "         3.36303822e+09,   3.40600341e+09,   3.44896861e+09,\n",
       "         3.49193381e+09,   3.53489901e+09,   3.57786420e+09,\n",
       "         3.62082940e+09,   3.66379460e+09,   3.70675980e+09,\n",
       "         3.74972499e+09,   3.79269019e+09])"
      ]
     },
     "execution_count": 510,
     "metadata": {},
     "output_type": "execute_result"
    }
   ],
   "source": [
    "l1_penalty_values = np.linspace(l1_penalty_min,l1_penalty_max,20)\n",
    "l1_penalty_values"
   ]
  },
  {
   "cell_type": "markdown",
   "metadata": {},
   "source": [
    "##### low_rss=0\n",
    "l1=0\n",
    "count = 0\n",
    "for l1_penalty in l1_penalty_values:\n",
    "    model = graphlab.linear_regression.create(train,target = 'price',features=all_features,l1_penalty=l1_penalty\n",
    "                                             ,l2_penalty =0.0,validation_set=None,verbose=False)\n",
    "    count = model[\"coefficients\"]['value'].nnz()\n",
    "    valid_predict = model.predict(valid)\n",
    "    error = valid_predict - valid['price']\n",
    "    rss = (error*error).sum()\n",
    "    if(count==max_nonzeros):\n",
    "        if(low_rss==0):\n",
    "            low_rss = rss\n",
    "            l1 = l1_penalty\n",
    "            model1 = model\n",
    "        else:\n",
    "            if(rss<low_rss):\n",
    "                low_rss = rss\n",
    "                l1 = l1_penalty\n",
    "                model1 = model\n",
    "print low_rss\n",
    "print l1\n"
   ]
  },
  {
   "cell_type": "code",
   "execution_count": 511,
   "metadata": {
    "collapsed": false
   },
   "outputs": [
    {
     "name": "stdout",
     "output_type": "stream",
     "text": [
      "+------------------+-------+---------------+--------+\n",
      "|       name       | index |     value     | stderr |\n",
      "+------------------+-------+---------------+--------+\n",
      "|   (intercept)    |  None | 217416.359436 |  None  |\n",
      "|     bedrooms     |  None | 1305.30145693 |  None  |\n",
      "|    bathrooms     |  None |  16849.29857  |  None  |\n",
      "|   sqft_living    |  None | 33.0614244016 |  None  |\n",
      "| sqft_living_sqrt |  None | 737.209789863 |  None  |\n",
      "|      grade       |  None | 3240.64094582 |  None  |\n",
      "|    sqft_above    |  None | 31.1125668299 |  None  |\n",
      "+------------------+-------+---------------+--------+\n",
      "[? rows x 4 columns]\n",
      "Note: Only the head of the SFrame is printed. This SFrame is lazily evaluated.\n",
      "You can use len(sf) to force materialization.\n"
     ]
    }
   ],
   "source": [
    "x = model1.get(\"coefficients\")\n",
    "print x[x['value']>0]"
   ]
  },
  {
   "cell_type": "markdown",
   "metadata": {},
   "source": [
    "###---- End of Week 5 Assignment -2\n"
   ]
  },
  {
   "cell_type": "markdown",
   "metadata": {},
   "source": [
    "###Week 5 Main Assingment"
   ]
  },
  {
   "cell_type": "code",
   "execution_count": 512,
   "metadata": {
    "collapsed": true
   },
   "outputs": [],
   "source": [
    "import graphlab"
   ]
  },
  {
   "cell_type": "code",
   "execution_count": 513,
   "metadata": {
    "collapsed": false
   },
   "outputs": [],
   "source": [
    "sales  =graphlab.SFrame('ML Projects\\Course 2\\week2\\Assignment2\\kc_house_data.gl')\n",
    "# In the dataset, 'floors' was defined with type string, \n",
    "# so we'll convert them to int, before using it below\n",
    "sales['floors'] = sales['floors'].astype(int) "
   ]
  },
  {
   "cell_type": "code",
   "execution_count": 514,
   "metadata": {
    "collapsed": true
   },
   "outputs": [],
   "source": [
    "import numpy as np\n",
    "def get_numpy_data(data_sframe, features, output):\n",
    "    data_sframe['constant'] = 1\n",
    "    #features = ['sqft_living','bedrooms','bathrooms']\n",
    "    features = ['constant']+features  #added constant to features \n",
    "    feature_sframe = data_sframe[features]  #Contains only the features column data\n",
    "    features_matrix = feature_sframe.to_numpy()  #converting it into array using numpy\n",
    "    output_sarray = data_sframe['price'] #here price is the output\n",
    "    output_array = output_sarray.to_numpy() #conveting to numpy array\n",
    "    return(features_matrix,output_array)"
   ]
  },
  {
   "cell_type": "code",
   "execution_count": 515,
   "metadata": {
    "collapsed": true
   },
   "outputs": [],
   "source": [
    "def predict_output(featured_matrix,weights):\n",
    "    dot_product_matrix = np.dot(featured_matrix,weights)\n",
    "    return dot_product_matrix"
   ]
  },
  {
   "cell_type": "code",
   "execution_count": 516,
   "metadata": {
    "collapsed": false
   },
   "outputs": [
    {
     "name": "stdout",
     "output_type": "stream",
     "text": [
      "[[  3.   5.   8.]\n",
      " [  4.  12.  15.]]\n"
     ]
    }
   ],
   "source": [
    "##Example\n",
    "X = np.array([[3.,5.,8.],[4.,12.,15.]])\n",
    "print X"
   ]
  },
  {
   "cell_type": "code",
   "execution_count": 517,
   "metadata": {
    "collapsed": false
   },
   "outputs": [
    {
     "name": "stdout",
     "output_type": "stream",
     "text": [
      "[  5.  13.  17.]\n"
     ]
    }
   ],
   "source": [
    "norms = np.linalg.norm(X, axis=0) # gives [norm(X[:,0]), norm(X[:,1]), norm(X[:,2])]\n",
    "print norms"
   ]
  },
  {
   "cell_type": "code",
   "execution_count": 518,
   "metadata": {
    "collapsed": false
   },
   "outputs": [
    {
     "name": "stdout",
     "output_type": "stream",
     "text": [
      "[[ 0.6         0.38461538  0.47058824]\n",
      " [ 0.8         0.92307692  0.88235294]]\n"
     ]
    }
   ],
   "source": [
    "print X / norms"
   ]
  },
  {
   "cell_type": "code",
   "execution_count": 519,
   "metadata": {
    "collapsed": true
   },
   "outputs": [],
   "source": [
    "def normalize_features(feature_matrix):\n",
    "    norms = np.linalg.norm(feature_matrix,axis=0)\n",
    "    return (feature_matrix/norms,norms)"
   ]
  },
  {
   "cell_type": "code",
   "execution_count": 520,
   "metadata": {
    "collapsed": false
   },
   "outputs": [
    {
     "name": "stdout",
     "output_type": "stream",
     "text": [
      "[[ 0.6  0.6  0.6]\n",
      " [ 0.8  0.8  0.8]]\n",
      "[  5.  10.  15.]\n"
     ]
    }
   ],
   "source": [
    "features, norms = normalize_features(np.array([[3.,6.,9.],[4.,8.,12.]]))\n",
    "print features\n",
    "print norms"
   ]
  },
  {
   "cell_type": "markdown",
   "metadata": {},
   "source": [
    "###Implementing coordinate decent by normalizing the values"
   ]
  },
  {
   "cell_type": "code",
   "execution_count": 521,
   "metadata": {
    "collapsed": false
   },
   "outputs": [],
   "source": [
    "simple_features = ['sqft_living', 'bedrooms']\n",
    "my_output = 'price'\n",
    "(simple_feature_matrix, output) = get_numpy_data(sales, simple_features, my_output)"
   ]
  },
  {
   "cell_type": "code",
   "execution_count": 522,
   "metadata": {
    "collapsed": true
   },
   "outputs": [],
   "source": [
    "simple_feature_matrix, norms = normalize_features(simple_feature_matrix)"
   ]
  },
  {
   "cell_type": "code",
   "execution_count": 523,
   "metadata": {
    "collapsed": true
   },
   "outputs": [],
   "source": [
    "weights = np.array([1., 4., 1.])"
   ]
  },
  {
   "cell_type": "code",
   "execution_count": 524,
   "metadata": {
    "collapsed": false
   },
   "outputs": [
    {
     "name": "stdout",
     "output_type": "stream",
     "text": [
      "21613\n",
      "3\n"
     ]
    }
   ],
   "source": [
    "prediction = predict_output(simple_feature_matrix,weights)\n",
    "print len(simple_feature_matrix)\n",
    "print len(weights)"
   ]
  },
  {
   "cell_type": "code",
   "execution_count": 529,
   "metadata": {
    "collapsed": false
   },
   "outputs": [],
   "source": [
    "def ro(features_matrix,output,prediction,weights):\n",
    "    i=0\n",
    "    ro  =[]\n",
    "    while (i<len(weights)):\n",
    "        ro.insert(i,(features_matrix[:,i]*(output-prediction+(weights[i]*features_matrix[:,i]))).sum())\n",
    "        i = i+1\n",
    "    return ro"
   ]
  },
  {
   "cell_type": "code",
   "execution_count": 530,
   "metadata": {
    "collapsed": false
   },
   "outputs": [
    {
     "data": {
      "text/plain": [
       "[79400300.034929156, 87939470.772991076, 80966698.675965652]"
      ]
     },
     "execution_count": 530,
     "metadata": {},
     "output_type": "execute_result"
    }
   ],
   "source": [
    "ro(simple_feature_matrix,output,prediction,weights)   #--- This is correct "
   ]
  },
  {
   "cell_type": "markdown",
   "metadata": {},
   "source": [
    "### Single Coordinate decent steps"
   ]
  },
  {
   "cell_type": "code",
   "execution_count": 722,
   "metadata": {
    "collapsed": true
   },
   "outputs": [],
   "source": [
    "def lasso_coordinate_descent_step(i, feature_matrix, output, weights, l1_penalty):\n",
    "    simple_feature_matrix_c, norms_c = normalize_features(feature_matrix)\n",
    "    predictions_c = predict_output(simple_feature_matrix_c,weights)\n",
    "    ro_c =  (simple_feature_matrix_c[:,i]*(output-predictions_c+weights[i]*simple_feature_matrix_c[:,i])).sum()\n",
    "    print \"ro_c:\",ro_c\n",
    "    l1_half =l1_penalty/2.\n",
    "    print l1_half\n",
    "    if i == 0: # intercept -- do not regularize\n",
    "        new_weight_i = ro_c\n",
    "    elif (ro_c < (-1*l1_half)):\n",
    "        new_weight_i = (ro_c + l1_half)\n",
    "    elif (ro_c > l1_half):\n",
    "        ##print \"in here\"\n",
    "        ##print (ro_c - l1_half)\n",
    "        new_weight_i = (ro_c - l1_half)\n",
    "    else:\n",
    "        new_weight_i = 0.\n",
    "    print \"new weight :\",new_weight_i\n",
    "    print \"**********\"\n",
    "    return new_weight_i"
   ]
  },
  {
   "cell_type": "code",
   "execution_count": 621,
   "metadata": {
    "collapsed": false
   },
   "outputs": [
    {
     "name": "stdout",
     "output_type": "stream",
     "text": [
      "0.425558846691\n"
     ]
    }
   ],
   "source": [
    "import math\n",
    "print lasso_coordinate_descent_step(1, np.array([[3./math.sqrt(13),1./math.sqrt(10)],[2./math.sqrt(13),3./math.sqrt(10)]]), \n",
    "                                   np.array([1., 1.]), np.array([1., 4.]), 0.1)"
   ]
  },
  {
   "cell_type": "code",
   "execution_count": 622,
   "metadata": {
    "collapsed": true
   },
   "outputs": [],
   "source": [
    "#--- above lasso_coordinate_descent_step function is working fine "
   ]
  },
  {
   "cell_type": "markdown",
   "metadata": {},
   "source": [
    "###Cyclical coordinate descent"
   ]
  },
  {
   "cell_type": "code",
   "execution_count": 698,
   "metadata": {
    "collapsed": false
   },
   "outputs": [],
   "source": [
    "def modulus(mod):\n",
    "    if(mod<0):\n",
    "        return mod*-1\n",
    "    else:\n",
    "        return mod"
   ]
  },
  {
   "cell_type": "code",
   "execution_count": 723,
   "metadata": {
    "collapsed": false
   },
   "outputs": [],
   "source": [
    "def lasso_cyclical_coordinate_descent(feature_matrix_f, output_f, initial_weights_f, l1_penalty_f, tolerance_f):\n",
    "    max_change = 1e6\n",
    "    weights =initial_weights_f\n",
    "    ##print weights[0]\n",
    "    while(max_change>tolerance_f):\n",
    "        max_change=0\n",
    "        change_per_loop=0\n",
    "        for i in range(len(weights)):\n",
    "            old_weight_i = weights[i]\n",
    "            weights[i]=lasso_coordinate_descent_step(i, feature_matrix_f, output_f, weights, l1_penalty_f)\n",
    "            print weights[i]\n",
    "            if(i==0):\n",
    "                change_per_loop = modulus(weights[i]-old_weight_i)\n",
    "            else :\n",
    "                if(change_per_loop<(modulus(weights[i]-old_weight_i))):\n",
    "                    change_per_loop = modulus(weights[i]-old_weight_i)\n",
    "        print \"change per loop :\",change_per_loop\n",
    "        max_change = change_per_loop\n",
    "    return weights"
   ]
  },
  {
   "cell_type": "code",
   "execution_count": 700,
   "metadata": {
    "collapsed": false
   },
   "outputs": [
    {
     "data": {
      "text/plain": [
       "array([ 0.,  0.,  0.])"
      ]
     },
     "execution_count": 700,
     "metadata": {},
     "output_type": "execute_result"
    }
   ],
   "source": [
    "simple_features = ['sqft_living', 'bedrooms']\n",
    "my_output = 'price'\n",
    "initial_weights = np.zeros(3)\n",
    "l1_penalty = 1e7\n",
    "tolerance = 1.0\n",
    "initial_weights"
   ]
  },
  {
   "cell_type": "code",
   "execution_count": 701,
   "metadata": {
    "collapsed": false
   },
   "outputs": [
    {
     "data": {
      "text/plain": [
       "array([[ 0.00680209,  0.00353021,  0.00583571],\n",
       "       [ 0.00680209,  0.00768869,  0.00583571],\n",
       "       [ 0.00680209,  0.00230361,  0.00389048],\n",
       "       ..., \n",
       "       [ 0.00680209,  0.00305154,  0.00389048],\n",
       "       [ 0.00680209,  0.00478673,  0.00583571],\n",
       "       [ 0.00680209,  0.00305154,  0.00389048]])"
      ]
     },
     "execution_count": 701,
     "metadata": {},
     "output_type": "execute_result"
    }
   ],
   "source": [
    "(simple_feature_matrix, output) = get_numpy_data(sales, simple_features, my_output)\n",
    "(normalized_simple_feature_matrix, simple_norms) = normalize_features(simple_feature_matrix) # normalize features\n",
    "normalized_simple_feature_matrix"
   ]
  },
  {
   "cell_type": "code",
   "execution_count": 702,
   "metadata": {
    "collapsed": false
   },
   "outputs": [
    {
     "name": "stdout",
     "output_type": "stream",
     "text": [
      "0.0\n",
      "change per loop : 79400304.6581\n",
      "change per loop : 9138168.3665\n",
      "change per loop : 8194809.40937\n",
      "change per loop : 6598905.03827\n",
      "change per loop : 5522173.1943\n",
      "change per loop : 4621129.81031\n",
      "change per loop : 3867108.10625\n",
      "change per loop : 3236118.81061\n",
      "change per loop : 2708086.93955\n",
      "change per loop : 2266213.1094\n",
      "change per loop : 1896439.06265\n",
      "change per loop : 1587000.40319\n",
      "change per loop : 1328052.31095\n",
      "change per loop : 1111356.328\n",
      "change per loop : 930018.251241\n",
      "change per loop : 778268.79269\n",
      "change per loop : 651280.029038\n",
      "change per loop : 545011.800818\n",
      "change per loop : 456083.174344\n",
      "change per loop : 381664.876995\n",
      "change per loop : 319389.283634\n",
      "change per loop : 267275.090398\n",
      "change per loop : 223664.279321\n",
      "change per loop : 187169.368346\n",
      "change per loop : 156629.268444\n",
      "change per loop : 131072.343461\n",
      "change per loop : 109685.497423\n",
      "change per loop : 91788.3058116\n",
      "change per loop : 76811.3677895\n",
      "change per loop : 64278.190664\n",
      "change per loop : 53790.0302253\n",
      "change per loop : 45013.2046616\n",
      "change per loop : 37668.4784415\n",
      "change per loop : 31522.1784089\n",
      "change per loop : 26378.7594496\n",
      "change per loop : 22074.5832053\n",
      "change per loop : 18472.7119037\n",
      "change per loop : 15458.5516701\n",
      "change per loop : 12936.2067131\n",
      "change per loop : 10825.4283904\n",
      "change per loop : 9059.06209101\n",
      "change per loop : 7580.91070477\n",
      "change per loop : 6343.94670621\n",
      "change per loop : 5308.81596931\n",
      "change per loop : 4442.58571219\n",
      "change per loop : 3717.69673769\n",
      "change per loop : 3111.08663489\n",
      "change per loop : 2603.45604621\n",
      "change per loop : 2178.65465673\n",
      "change per loop : 1823.16737023\n",
      "change per loop : 1525.68432524\n",
      "change per loop : 1276.74107067\n",
      "change per loop : 1068.41745344\n",
      "change per loop : 894.085638061\n",
      "change per loop : 748.199241444\n",
      "change per loop : 626.116874106\n",
      "change per loop : 523.954474051\n",
      "change per loop : 438.461734928\n",
      "change per loop : 366.918697149\n",
      "change per loop : 307.049212284\n",
      "change per loop : 256.948527001\n",
      "change per loop : 215.022683278\n",
      "change per loop : 179.937806491\n",
      "change per loop : 150.577667948\n",
      "change per loop : 126.008172072\n",
      "change per loop : 105.447638072\n",
      "change per loop : 88.2419305854\n",
      "change per loop : 73.84364843\n",
      "change per loop : 61.7947089039\n",
      "change per loop : 51.7117738649\n",
      "change per loop : 43.2740537636\n",
      "change per loop : 36.2131017745\n",
      "change per loop : 30.3042730168\n",
      "change per loop : 25.3595775627\n",
      "change per loop : 21.2216994427\n",
      "change per loop : 17.7589916885\n",
      "change per loop : 14.8612879515\n",
      "change per loop : 12.4363974854\n",
      "change per loop : 10.4071721584\n",
      "change per loop : 8.70905200392\n",
      "change per loop : 7.28801114857\n",
      "change per loop : 6.09883905202\n",
      "change per loop : 5.10370212048\n",
      "change per loop : 4.27093991637\n",
      "change per loop : 3.57405810058\n",
      "change per loop : 2.990885254\n",
      "change per loop : 2.5028677173\n",
      "change per loop : 2.09447914734\n",
      "change per loop : 1.75272664055\n",
      "change per loop : 1.46673728526\n",
      "change per loop : 1.22741232067\n",
      "change per loop : 1.02713759243\n",
      "change per loop : 0.859541337937\n"
     ]
    }
   ],
   "source": [
    "weights = lasso_cyclical_coordinate_descent(normalized_simple_feature_matrix, output,\n",
    "                                            initial_weights, l1_penalty, tolerance)"
   ]
  },
  {
   "cell_type": "code",
   "execution_count": 703,
   "metadata": {
    "collapsed": false
   },
   "outputs": [
    {
     "name": "stdout",
     "output_type": "stream",
     "text": [
      "[ 21624998.36636282  63157246.7854543          0.        ]\n"
     ]
    }
   ],
   "source": [
    "print weights"
   ]
  },
  {
   "cell_type": "code",
   "execution_count": 704,
   "metadata": {
    "collapsed": false
   },
   "outputs": [
    {
     "name": "stdout",
     "output_type": "stream",
     "text": [
      "1.63049248148e+15\n"
     ]
    }
   ],
   "source": [
    "output_predicted = predict_output(normalized_simple_feature_matrix,weights)\n",
    "error = output_predicted - output\n",
    "rss = (error*error).sum()\n",
    "print rss\n"
   ]
  },
  {
   "cell_type": "markdown",
   "metadata": {},
   "source": [
    "### Evaluating LASSO fit with more features"
   ]
  },
  {
   "cell_type": "code",
   "execution_count": 705,
   "metadata": {
    "collapsed": true
   },
   "outputs": [],
   "source": [
    "train_data,test_data = sales.random_split(.8,seed=0)"
   ]
  },
  {
   "cell_type": "code",
   "execution_count": 706,
   "metadata": {
    "collapsed": true
   },
   "outputs": [],
   "source": [
    "all_features = ['bedrooms',\n",
    "                'bathrooms',\n",
    "                'sqft_living',\n",
    "                'sqft_lot',\n",
    "                'floors',\n",
    "                'waterfront', \n",
    "                'view', \n",
    "                'condition', \n",
    "                'grade',\n",
    "                'sqft_above',\n",
    "                'sqft_basement',\n",
    "                'yr_built', \n",
    "                'yr_renovated']"
   ]
  },
  {
   "cell_type": "code",
   "execution_count": 707,
   "metadata": {
    "collapsed": true
   },
   "outputs": [],
   "source": [
    "(features_matrix_train,output_train) = get_numpy_data(train_data,all_features,'price') \n",
    "(normalize_features_matrix_train,norms_train) = normalize_features(features_matrix_train)"
   ]
  },
  {
   "cell_type": "code",
   "execution_count": 708,
   "metadata": {
    "collapsed": false
   },
   "outputs": [
    {
     "name": "stdout",
     "output_type": "stream",
     "text": [
      "0.0\n",
      "change per loop : 71114625.7528\n",
      "change per loop : 5024356.36869\n",
      "change per loop : 5012324.91395\n",
      "change per loop : 5000676.42086\n",
      "change per loop : 4991243.17314\n",
      "change per loop : 4984361.34335\n",
      "change per loop : 4979504.92921\n",
      "change per loop : 4973806.56525\n",
      "change per loop : 2879222.99938\n",
      "change per loop : 2706150.76622\n",
      "change per loop : 2532295.64864\n",
      "change per loop : 2368316.57782\n",
      "change per loop : 2213124.35067\n",
      "change per loop : 1552443.60013\n",
      "change per loop : 507838.033159\n",
      "change per loop : 438814.370591\n",
      "change per loop : 371479.622608\n",
      "change per loop : 313415.105581\n",
      "change per loop : 264244.832139\n",
      "change per loop : 222753.8608\n",
      "change per loop : 187770.667306\n",
      "change per loop : 158280.093357\n",
      "change per loop : 133420.901606\n",
      "change per loop : 112465.988296\n",
      "change per loop : 94802.2134519\n",
      "change per loop : 79912.6874505\n",
      "change per loop : 67361.6926196\n",
      "change per loop : 56781.942492\n",
      "change per loop : 47863.835752\n",
      "change per loop : 40346.3966195\n",
      "change per loop : 34009.6378518\n",
      "change per loop : 28668.1231465\n",
      "change per loop : 24165.5406129\n",
      "change per loop : 20370.1285268\n",
      "change per loop : 17170.8195088\n",
      "change per loop : 14473.990295\n",
      "change per loop : 12200.7219837\n",
      "change per loop : 10284.4905855\n",
      "change per loop : 8669.22029243\n",
      "change per loop : 7307.64249856\n",
      "change per loop : 6159.91255101\n",
      "change per loop : 5192.44375235\n",
      "change per loop : 4376.92449334\n",
      "change per loop : 3689.48975357\n",
      "change per loop : 3110.02272543\n",
      "change per loop : 2621.56612397\n",
      "change per loop : 2209.82595597\n",
      "change per loop : 1862.75322643\n",
      "change per loop : 1570.19134162\n",
      "change per loop : 1323.57889082\n",
      "change per loop : 1115.69910862\n",
      "change per loop : 940.468686543\n",
      "change per loop : 792.759753533\n",
      "change per loop : 668.249816086\n",
      "change per loop : 563.295266584\n",
      "change per loop : 474.824758228\n",
      "change per loop : 400.249326415\n",
      "change per loop : 337.386626367\n",
      "change per loop : 284.397069879\n",
      "change per loop : 239.729992341\n",
      "change per loop : 202.078274757\n",
      "change per loop : 170.340092748\n",
      "change per loop : 143.586673193\n",
      "change per loop : 121.035115026\n",
      "change per loop : 102.025478713\n",
      "change per loop : 86.0014740676\n",
      "change per loop : 72.4941812083\n",
      "change per loop : 61.1083282717\n",
      "change per loop : 51.5107243359\n",
      "change per loop : 43.4205090664\n",
      "change per loop : 36.6009337269\n",
      "change per loop : 30.8524330594\n",
      "change per loop : 26.006785322\n",
      "change per loop : 21.9221894518\n",
      "change per loop : 18.4791155197\n",
      "change per loop : 15.576806847\n",
      "change per loop : 13.1303314231\n",
      "change per loop : 11.068096634\n",
      "change per loop : 9.32975407317\n",
      "change per loop : 7.86443359777\n",
      "change per loop : 6.6292546913\n",
      "change per loop : 5.58807155117\n",
      "change per loop : 4.71041543782\n",
      "change per loop : 3.97060300037\n",
      "change per loop : 3.34698464349\n",
      "change per loop : 2.82131107152\n",
      "change per loop : 2.3781991899\n",
      "change per loop : 2.0046819523\n",
      "change per loop : 1.68982890993\n",
      "change per loop : 1.42442632094\n",
      "change per loop : 1.20070755109\n",
      "change per loop : 1.01212580875\n",
      "change per loop : 0.853162493557\n",
      "[ 24429600.60933314         0.                 0.          48389174.35227978\n",
      "         0.                 0.           3317511.16271982   7329961.9848964\n",
      "         0.                 0.                 0.                 0.\n",
      "         0.                 0.        ]\n",
      "[  1.85285533e+05   0.00000000e+00   0.00000000e+00   1.61317456e+02\n",
      "   0.00000000e+00   0.00000000e+00   2.87664700e+05   6.91937057e+04\n",
      "   0.00000000e+00   0.00000000e+00   0.00000000e+00   0.00000000e+00\n",
      "   0.00000000e+00   0.00000000e+00]\n"
     ]
    }
   ],
   "source": [
    "initial_weights_train = np.zeros(14)\n",
    "l1_penalty_train = 1e7\n",
    "tolerance_train = 1.0\n",
    "weights_1e7 = lasso_cyclical_coordinate_descent(normalize_features_matrix_train,output_train,\n",
    "                                                initial_weights_train,1e7,1)\n",
    "norm_1e7 = weights_1e7/norms_train\n",
    "print weights_1e7\n",
    "print norm_1e7"
   ]
  },
  {
   "cell_type": "code",
   "execution_count": 724,
   "metadata": {
    "collapsed": false
   },
   "outputs": [
    {
     "name": "stdout",
     "output_type": "stream",
     "text": [
      "ro_c: 71114625.7528\n",
      "50000000.0\n",
      "new weight : 71114625.7528\n",
      "**********\n",
      "71114625.7528\n",
      "ro_c: 3961380.1017\n",
      "50000000.0\n",
      "new weight : 0.0\n",
      "**********\n",
      "0.0\n",
      "ro_c: 8743972.43192\n",
      "50000000.0\n",
      "new weight : 0.0\n",
      "**********\n",
      "0.0\n",
      "ro_c: 13878982.8537\n",
      "50000000.0\n",
      "new weight : 0.0\n",
      "**********\n",
      "0.0\n",
      "ro_c: 4041432.70443\n",
      "50000000.0\n",
      "new weight : 0.0\n",
      "**********\n",
      "0.0\n",
      "ro_c: 4042646.85757\n",
      "50000000.0\n",
      "new weight : 0.0\n",
      "**********\n",
      "0.0\n",
      "ro_c: 13219102.7965\n",
      "50000000.0\n",
      "new weight : 0.0\n",
      "**********\n",
      "0.0\n",
      "ro_c: 18217825.1197\n",
      "50000000.0\n",
      "new weight : 0.0\n",
      "**********\n",
      "0.0\n",
      "ro_c: 329621.962263\n",
      "50000000.0\n",
      "new weight : 0.0\n",
      "**********\n",
      "0.0\n",
      "ro_c: 4913611.00922\n",
      "50000000.0\n",
      "new weight : 0.0\n",
      "**********\n",
      "0.0\n",
      "ro_c: 12386943.3964\n",
      "50000000.0\n",
      "new weight : 0.0\n",
      "**********\n",
      "0.0\n",
      "ro_c: 13490052.6687\n",
      "50000000.0\n",
      "new weight : 0.0\n",
      "**********\n",
      "0.0\n",
      "ro_c: 38085.1956153\n",
      "50000000.0\n",
      "new weight : 0.0\n",
      "**********\n",
      "0.0\n",
      "ro_c: 5893049.59967\n",
      "50000000.0\n",
      "new weight : 0.0\n",
      "**********\n",
      "0.0\n",
      "change per loop : 71114625.7528\n",
      "ro_c: 71114625.7528\n",
      "50000000.0\n",
      "new weight : 71114625.7528\n",
      "**********\n",
      "71114625.7528\n",
      "ro_c: 3961380.1017\n",
      "50000000.0\n",
      "new weight : 0.0\n",
      "**********\n",
      "0.0\n",
      "ro_c: 8743972.43192\n",
      "50000000.0\n",
      "new weight : 0.0\n",
      "**********\n",
      "0.0\n",
      "ro_c: 13878982.8537\n",
      "50000000.0\n",
      "new weight : 0.0\n",
      "**********\n",
      "0.0\n",
      "ro_c: 4041432.70443\n",
      "50000000.0\n",
      "new weight : 0.0\n",
      "**********\n",
      "0.0\n",
      "ro_c: 4042646.85757\n",
      "50000000.0\n",
      "new weight : 0.0\n",
      "**********\n",
      "0.0\n",
      "ro_c: 13219102.7965\n",
      "50000000.0\n",
      "new weight : 0.0\n",
      "**********\n",
      "0.0\n",
      "ro_c: 18217825.1197\n",
      "50000000.0\n",
      "new weight : 0.0\n",
      "**********\n",
      "0.0\n",
      "ro_c: 329621.962263\n",
      "50000000.0\n",
      "new weight : 0.0\n",
      "**********\n",
      "0.0\n",
      "ro_c: 4913611.00922\n",
      "50000000.0\n",
      "new weight : 0.0\n",
      "**********\n",
      "0.0\n",
      "ro_c: 12386943.3964\n",
      "50000000.0\n",
      "new weight : 0.0\n",
      "**********\n",
      "0.0\n",
      "ro_c: 13490052.6687\n",
      "50000000.0\n",
      "new weight : 0.0\n",
      "**********\n",
      "0.0\n",
      "ro_c: 38085.1956153\n",
      "50000000.0\n",
      "new weight : 0.0\n",
      "**********\n",
      "0.0\n",
      "ro_c: 5893049.59967\n",
      "50000000.0\n",
      "new weight : 0.0\n",
      "**********\n",
      "0.0\n",
      "change per loop : 0.0\n",
      "[ 71114625.75280938         0.                 0.                 0.\n",
      "         0.                 0.                 0.                 0.\n",
      "         0.                 0.                 0.                 0.\n",
      "         0.                 0.        ]\n",
      "[ 539366.62822135       0.               0.               0.               0.\n",
      "       0.               0.               0.               0.               0.\n",
      "       0.               0.               0.               0.        ]\n"
     ]
    }
   ],
   "source": [
    "#Now with l1_penalty_train = 1e7\n",
    "initial_weights_train = np.zeros(14)\n",
    "l1_penalty_train = 1e8\n",
    "weights_1e8 = lasso_cyclical_coordinate_descent(normalize_features_matrix_train,output_train,\n",
    "                                                initial_weights_train,1e8,1)\n",
    "norm_1e8 = weights_1e8/norms_train\n",
    "print weights_1e8\n",
    "print norm_1e8"
   ]
  },
  {
   "cell_type": "code",
   "execution_count": 710,
   "metadata": {
    "collapsed": false
   },
   "outputs": [
    {
     "name": "stdout",
     "output_type": "stream",
     "text": [
      "0.0\n",
      "change per loop : 71114625.7528\n",
      "change per loop : 8464015.94738\n",
      "change per loop : 6818451.35869\n",
      "change per loop : 5570165.21901\n",
      "change per loop : 4559838.46759\n",
      "change per loop : 3732056.69715\n",
      "change per loop : 3053211.61353\n",
      "change per loop : 2497517.43558\n",
      "change per loop : 2043868.97325\n",
      "change per loop : 1674717.70906\n",
      "change per loop : 1375420.75692\n",
      "change per loop : 1296621.8143\n",
      "change per loop : 1257340.9361\n",
      "change per loop : 1228271.24819\n",
      "change per loop : 1206854.36471\n",
      "change per loop : 1191059.40598\n",
      "change per loop : 1179030.77017\n",
      "change per loop : 1169777.43345\n",
      "change per loop : 1162340.67589\n",
      "change per loop : 1155980.52901\n",
      "change per loop : 1150139.67966\n",
      "change per loop : 1144406.32752\n",
      "change per loop : 1138483.91805\n",
      "change per loop : 1132166.57169\n",
      "change per loop : 1125319.16778\n",
      "change per loop : 1117861.24888\n",
      "change per loop : 1109754.06282\n",
      "change per loop : 1100990.17907\n",
      "change per loop : 1091585.21244\n",
      "change per loop : 1081571.26761\n",
      "change per loop : 1070991.78405\n",
      "change per loop : 1059897.51701\n",
      "change per loop : 1048343.43631\n",
      "change per loop : 1036386.3636\n",
      "change per loop : 1024083.20068\n",
      "change per loop : 1011489.62847\n",
      "change per loop : 998659.178392\n",
      "change per loop : 985642.596017\n",
      "change per loop : 972487.432403\n",
      "change per loop : 959237.810727\n",
      "change per loop : 945934.326266\n",
      "change per loop : 932614.046118\n",
      "change per loop : 919310.581988\n",
      "change per loop : 906054.214956\n",
      "change per loop : 892872.055697\n",
      "change per loop : 879109.302243\n",
      "change per loop : 866038.266742\n",
      "change per loop : 853191.44943\n",
      "change per loop : 840521.781012\n",
      "change per loop : 828028.403962\n",
      "change per loop : 815717.920819\n",
      "change per loop : 803598.206378\n",
      "change per loop : 791676.769693\n",
      "change per loop : 779960.222854\n",
      "change per loop : 768454.139375\n",
      "change per loop : 757163.05916\n",
      "change per loop : 746090.546302\n",
      "change per loop : 735239.263812\n",
      "change per loop : 724611.051693\n",
      "change per loop : 714002.910141\n",
      "change per loop : 703393.002342\n",
      "change per loop : 693038.299304\n",
      "change per loop : 682960.589206\n",
      "change per loop : 673155.135299\n",
      "change per loop : 663513.600594\n",
      "change per loop : 654148.681361\n",
      "change per loop : 645045.446052\n",
      "change per loop : 636191.878813\n",
      "change per loop : 627577.229773\n",
      "change per loop : 619191.96692\n",
      "change per loop : 611027.657019\n",
      "change per loop : 603076.796131\n",
      "change per loop : 595332.640574\n",
      "change per loop : 587789.058274\n",
      "change per loop : 580440.404721\n",
      "change per loop : 573281.422008\n",
      "change per loop : 566307.157817\n",
      "change per loop : 559512.901092\n",
      "change per loop : 552894.131446\n",
      "change per loop : 546446.479774\n",
      "change per loop : 540165.69795\n",
      "change per loop : 534047.63585\n",
      "change per loop : 528088.224232\n",
      "change per loop : 522283.462294\n",
      "change per loop : 516629.408909\n",
      "change per loop : 511122.176757\n",
      "change per loop : 505757.928682\n",
      "change per loop : 500532.875758\n",
      "change per loop : 495443.276635\n",
      "[ 77779073.91265246 -22884012.25023377  15348487.08090002\n",
      "  92166869.69883095  -2139328.0824278   -8818455.54409507\n",
      "   6494209.73310655   7065162.05053197   4119079.21006756\n",
      "  18436483.52618802 -14566678.54514361  -5528348.75179432\n",
      " -83591746.20730551   2784276.46012858]\n",
      "[  5.89912924e+05  -4.97435039e+04   5.17044250e+04   3.07261390e+02\n",
      "  -3.67765574e-01  -4.32048893e+04   5.63119400e+05   6.66940353e+04\n",
      "   8.99767715e+03   1.80569342e+04  -5.60846894e+01  -7.88384489e+01\n",
      "  -3.21603081e+02   5.18531810e+01]\n"
     ]
    }
   ],
   "source": [
    "#now with l1_penalty_train=1e4 and tolerance_train=5e5\n",
    "initial_weights_train = np.zeros(14)\n",
    "l1_penalty_train=1e4\n",
    "tolerance_train=5e5\n",
    "weights_1e4 = lasso_cyclical_coordinate_descent(normalize_features_matrix_train,output_train,\n",
    "                                                initial_weights_train,1e4,5e5)\n",
    "norm_1e4 = weights_1e4/norms_train\n",
    "print weights_1e4\n",
    "print norm_1e4"
   ]
  },
  {
   "cell_type": "code",
   "execution_count": 711,
   "metadata": {
    "collapsed": false
   },
   "outputs": [],
   "source": [
    "# original_features = train[all_features].to_numpy()\n",
    "# features,norms = normalize_features(original_features)\n",
    "test_feature_matrix, test_output = get_numpy_data(test_data, all_features, 'price')\n",
    "# weights1_1e7 = lasso_cyclical_coordinate_descent(normalize_features_matrix_train,output_train,\n",
    "#                                                 initial_weights_train,1e7,1.0)"
   ]
  },
  {
   "cell_type": "code",
   "execution_count": 712,
   "metadata": {
    "collapsed": false
   },
   "outputs": [
    {
     "name": "stdout",
     "output_type": "stream",
     "text": [
      "[  1.85285533e+05   0.00000000e+00   0.00000000e+00   1.61317456e+02\n",
      "   0.00000000e+00   0.00000000e+00   2.87664700e+05   6.91937057e+04\n",
      "   0.00000000e+00   0.00000000e+00   0.00000000e+00   0.00000000e+00\n",
      "   0.00000000e+00   0.00000000e+00]\n",
      "2.75962079909e+14\n"
     ]
    }
   ],
   "source": [
    "#w1\n",
    "print norm_1e7\n",
    "predict_w1 = predict_output(test_feature_matrix,norm_1e7)\n",
    "error = predict_w1-test_output\n",
    "rss_w1 = (error*error).sum()\n",
    "print rss_w1"
   ]
  },
  {
   "cell_type": "code",
   "execution_count": 713,
   "metadata": {
    "collapsed": false
   },
   "outputs": [
    {
     "name": "stdout",
     "output_type": "stream",
     "text": [
      "[ 539366.62822135       0.               0.               0.               0.\n",
      "       0.               0.               0.               0.               0.\n",
      "       0.               0.               0.               0.        ]\n",
      "5.37166150034e+14\n"
     ]
    }
   ],
   "source": [
    "#w2\n",
    "print norm_1e8\n",
    "predict_w2 = predict_output(test_feature_matrix,norm_1e8)\n",
    "error = predict_w2-test_output\n",
    "rss_w2 = (error*error).sum()\n",
    "print rss_w2"
   ]
  },
  {
   "cell_type": "code",
   "execution_count": 714,
   "metadata": {
    "collapsed": false
   },
   "outputs": [
    {
     "name": "stdout",
     "output_type": "stream",
     "text": [
      "[  5.89912924e+05  -4.97435039e+04   5.17044250e+04   3.07261390e+02\n",
      "  -3.67765574e-01  -4.32048893e+04   5.63119400e+05   6.66940353e+04\n",
      "   8.99767715e+03   1.80569342e+04  -5.60846894e+01  -7.88384489e+01\n",
      "  -3.21603081e+02   5.18531810e+01]\n",
      "2.2778100476e+14\n"
     ]
    }
   ],
   "source": [
    "#w3\n",
    "print norm_1e4\n",
    "predict_w3 = predict_output(test_feature_matrix,norm_1e4)\n",
    "error = predict_w3-test_output\n",
    "rss_w3 = (error*error).sum()\n",
    "print rss_w3"
   ]
  },
  {
   "cell_type": "code",
   "execution_count": null,
   "metadata": {
    "collapsed": true
   },
   "outputs": [],
   "source": []
  }
 ],
 "metadata": {
  "kernelspec": {
   "display_name": "Python 2",
   "language": "python",
   "name": "python2"
  },
  "language_info": {
   "codemirror_mode": {
    "name": "ipython",
    "version": 2
   },
   "file_extension": ".py",
   "mimetype": "text/x-python",
   "name": "python",
   "nbconvert_exporter": "python",
   "pygments_lexer": "ipython2",
   "version": "2.7.10"
  }
 },
 "nbformat": 4,
 "nbformat_minor": 0
}
