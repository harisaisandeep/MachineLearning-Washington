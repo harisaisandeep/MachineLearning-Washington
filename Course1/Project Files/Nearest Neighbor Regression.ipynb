{
 "cells": [
  {
   "cell_type": "code",
   "execution_count": 1,
   "metadata": {
    "collapsed": false
   },
   "outputs": [
    {
     "name": "stderr",
     "output_type": "stream",
     "text": [
      "A newer version of GraphLab Create (v2.0.1) is available! Your current version is v1.8.3.\n",
      "\n",
      "You can use pip to upgrade the graphlab-create package. For more information see https://dato.com/products/create/upgrade.\n"
     ]
    }
   ],
   "source": [
    "import graphlab"
   ]
  },
  {
   "cell_type": "code",
   "execution_count": 2,
   "metadata": {
    "collapsed": false
   },
   "outputs": [
    {
     "name": "stderr",
     "output_type": "stream",
     "text": [
      "[INFO] GraphLab Create v1.8.3 started. Logging: C:\\Users\\hiambati\\AppData\\Local\\Temp\\graphlab_server_1468564547.log.0\n"
     ]
    }
   ],
   "source": [
    "sales = graphlab.SFrame('ML Projects\\Course 2\\week6\\kc_house_data_small.gl')"
   ]
  },
  {
   "cell_type": "code",
   "execution_count": 3,
   "metadata": {
    "collapsed": true
   },
   "outputs": [],
   "source": [
    "(train_and_validation, test) = sales.random_split(.8, seed=1)\n",
    "(train, validation) = train_and_validation.random_split(.8, seed=1)"
   ]
  },
  {
   "cell_type": "code",
   "execution_count": 4,
   "metadata": {
    "collapsed": true
   },
   "outputs": [],
   "source": [
    "import numpy as np"
   ]
  },
  {
   "cell_type": "code",
   "execution_count": 5,
   "metadata": {
    "collapsed": true
   },
   "outputs": [],
   "source": [
    "def get_numpy_data(data_sframe, features, output):\n",
    "    data_sframe['constant'] = 1\n",
    "    #features = ['sqft_living','bedrooms','bathrooms']\n",
    "    features = ['constant']+features  #added constant to features \n",
    "    feature_sframe = data_sframe[features]  #Contains only the features column data\n",
    "    features_matrix = feature_sframe.to_numpy()  #converting it into array using numpy\n",
    "    output_sarray = data_sframe['price'] #here price is the output\n",
    "    output_array = output_sarray.to_numpy() #conveting to numpy array\n",
    "    return(features_matrix,output_array)"
   ]
  },
  {
   "cell_type": "code",
   "execution_count": 6,
   "metadata": {
    "collapsed": true
   },
   "outputs": [],
   "source": [
    "def normalize_features(feature_matrix):\n",
    "    norms = np.linalg.norm(feature_matrix,axis=0)\n",
    "    return (feature_matrix/norms,norms)"
   ]
  },
  {
   "cell_type": "code",
   "execution_count": 7,
   "metadata": {
    "collapsed": false
   },
   "outputs": [],
   "source": [
    "feature_list = ['bedrooms',  \n",
    "                'bathrooms',  \n",
    "                'sqft_living',  \n",
    "                'sqft_lot',  \n",
    "                'floors',\n",
    "                'waterfront',  \n",
    "                'view',  \n",
    "                'condition',  \n",
    "                'grade',  \n",
    "                'sqft_above',  \n",
    "                'sqft_basement',\n",
    "                'yr_built',  \n",
    "                'yr_renovated',  \n",
    "                'lat',  \n",
    "                'long',  \n",
    "                'sqft_living15',  \n",
    "                'sqft_lot15']\n",
    "output = 'price'\n",
    "feature_matrix_train,output_array_train =get_numpy_data(train,feature_list,output)\n",
    "feature_matrix_valid,output_array_valid =get_numpy_data(validation,feature_list,output)\n",
    "feature_matrix_test,output_array_test =get_numpy_data(test,feature_list,output)"
   ]
  },
  {
   "cell_type": "code",
   "execution_count": 8,
   "metadata": {
    "collapsed": false
   },
   "outputs": [],
   "source": [
    "features_train, norms = normalize_features(feature_matrix_train)\n",
    "features_test = feature_matrix_test / norms\n",
    "features_valid = feature_matrix_valid / norms"
   ]
  },
  {
   "cell_type": "code",
   "execution_count": 9,
   "metadata": {
    "collapsed": false
   },
   "outputs": [
    {
     "name": "stdout",
     "output_type": "stream",
     "text": [
      "[ 0.01345102  0.01551285  0.01807473  0.01759212  0.00160518  0.017059    0.\n",
      "  0.05102365  0.0116321   0.01564352  0.01362084  0.02481682  0.01350306\n",
      "  0.          0.01345386 -0.01346927  0.01375926  0.0016225 ]\n",
      "[ 0.01345102  0.01163464  0.00602491  0.0083488   0.00050756  0.01279425\n",
      "  0.          0.          0.01938684  0.01390535  0.0096309   0.\n",
      "  0.01302544  0.          0.01346821 -0.01346254  0.01195898  0.00156612]\n"
     ]
    }
   ],
   "source": [
    "print features_test[0]\n",
    "print features_train[9]"
   ]
  },
  {
   "cell_type": "code",
   "execution_count": 10,
   "metadata": {
    "collapsed": false
   },
   "outputs": [],
   "source": [
    "def distance(data1,data2):\n",
    "    data = data1-data2\n",
    "    data = data**2\n",
    "    data = np.sum(data)\n",
    "    data = np.sqrt(data)\n",
    "    return data"
   ]
  },
  {
   "cell_type": "code",
   "execution_count": 11,
   "metadata": {
    "collapsed": false
   },
   "outputs": [
    {
     "name": "stdout",
     "output_type": "stream",
     "text": [
      "0.0597235937167\n"
     ]
    }
   ],
   "source": [
    "print distance(features_test[0],features_train[9])"
   ]
  },
  {
   "cell_type": "code",
   "execution_count": 12,
   "metadata": {
    "collapsed": false
   },
   "outputs": [
    {
     "name": "stdout",
     "output_type": "stream",
     "text": [
      "for house  1  distance :  0.060274709173\n",
      "for house  2  distance :  0.0854688114883\n",
      "for house  3  distance :  0.0614994643712\n",
      "for house  4  distance :  0.0534027397882\n",
      "for house  5  distance :  0.0584448406394\n",
      "for house  6  distance :  0.0598792151018\n",
      "for house  7  distance :  0.0546314049726\n",
      "for house  8  distance :  0.0554310832416\n",
      "for house  9  distance :  0.052383627841\n",
      "for house  10  distance :  0.0597235937167\n"
     ]
    }
   ],
   "source": [
    "i =1\n",
    "distances = []\n",
    "distances.insert(0,1000)\n",
    "for data  in features_train[0:10]:\n",
    "    distances.insert(i,distance(features_test[0],data))\n",
    "    print \"for house \",i,\" distance : \",distance(features_test[0],data)\n",
    "    i = i+1"
   ]
  },
  {
   "cell_type": "code",
   "execution_count": 13,
   "metadata": {
    "collapsed": false
   },
   "outputs": [
    {
     "name": "stdout",
     "output_type": "stream",
     "text": [
      "0.052383627841\n",
      "9\n"
     ]
    }
   ],
   "source": [
    "print min(distances)\n",
    "print distances.index(min(distances))"
   ]
  },
  {
   "cell_type": "code",
   "execution_count": 14,
   "metadata": {
    "collapsed": false
   },
   "outputs": [
    {
     "name": "stdout",
     "output_type": "stream",
     "text": [
      "[  0.00000000e+00  -3.87821276e-03  -1.20498190e-02  -1.05552733e-02\n",
      "   2.08673616e-04  -8.52950206e-03   0.00000000e+00  -5.10236549e-02\n",
      "   0.00000000e+00  -3.47633726e-03  -5.50336860e-03  -2.48168183e-02\n",
      "  -1.63756198e-04   0.00000000e+00  -1.70072004e-05   1.30577772e-05\n",
      "  -5.14364795e-03   6.69281453e-04]\n",
      "[  0.00000000e+00  -3.87821276e-03  -4.51868214e-03  -2.26610387e-03\n",
      "   7.19763456e-04   0.00000000e+00   0.00000000e+00  -5.10236549e-02\n",
      "   0.00000000e+00  -3.47633726e-03   1.30705004e-03  -1.45830788e-02\n",
      "  -1.91048898e-04   6.65082271e-02   4.23240653e-05   6.22415897e-06\n",
      "  -2.89330197e-03   1.47606982e-03]\n",
      "[  0.00000000e+00  -7.75642553e-03  -1.20498190e-02  -1.30002801e-02\n",
      "   1.60518166e-03  -8.52950206e-03   0.00000000e+00  -5.10236549e-02\n",
      "   0.00000000e+00  -5.21450589e-03  -8.32384500e-03  -2.48168183e-02\n",
      "  -3.13866046e-04   0.00000000e+00   4.71047219e-05   1.56530415e-05\n",
      "   3.72914476e-03   1.64764925e-03]\n"
     ]
    }
   ],
   "source": [
    "for i in xrange(3):\n",
    "    print features_train[i]-features_test[0]\n",
    "    # should print 3 vectors of length 18"
   ]
  },
  {
   "cell_type": "code",
   "execution_count": 15,
   "metadata": {
    "collapsed": false
   },
   "outputs": [
    {
     "name": "stdout",
     "output_type": "stream",
     "text": [
      "[[  0.00000000e+00  -3.87821276e-03  -1.20498190e-02  -1.05552733e-02\n",
      "    2.08673616e-04  -8.52950206e-03   0.00000000e+00  -5.10236549e-02\n",
      "    0.00000000e+00  -3.47633726e-03  -5.50336860e-03  -2.48168183e-02\n",
      "   -1.63756198e-04   0.00000000e+00  -1.70072004e-05   1.30577772e-05\n",
      "   -5.14364795e-03   6.69281453e-04]\n",
      " [  0.00000000e+00  -3.87821276e-03  -4.51868214e-03  -2.26610387e-03\n",
      "    7.19763456e-04   0.00000000e+00   0.00000000e+00  -5.10236549e-02\n",
      "    0.00000000e+00  -3.47633726e-03   1.30705004e-03  -1.45830788e-02\n",
      "   -1.91048898e-04   6.65082271e-02   4.23240653e-05   6.22415897e-06\n",
      "   -2.89330197e-03   1.47606982e-03]\n",
      " [  0.00000000e+00  -7.75642553e-03  -1.20498190e-02  -1.30002801e-02\n",
      "    1.60518166e-03  -8.52950206e-03   0.00000000e+00  -5.10236549e-02\n",
      "    0.00000000e+00  -5.21450589e-03  -8.32384500e-03  -2.48168183e-02\n",
      "   -3.13866046e-04   0.00000000e+00   4.71047219e-05   1.56530415e-05\n",
      "    3.72914476e-03   1.64764925e-03]]\n"
     ]
    }
   ],
   "source": [
    "print features_train[0:3] - features_test[0]"
   ]
  },
  {
   "cell_type": "code",
   "execution_count": 16,
   "metadata": {
    "collapsed": false
   },
   "outputs": [
    {
     "name": "stdout",
     "output_type": "stream",
     "text": [
      "[ 0.  0.  0.  0.  0.  0.  0.  0.  0.  0.  0.  0.  0.  0.  0.  0.  0.  0.]\n",
      "[ 0.  0.  0.  0.  0.  0.  0.  0.  0.  0.  0.  0.  0.  0.  0.  0.  0.  0.]\n",
      "[ 0.  0.  0.  0.  0.  0.  0.  0.  0.  0.  0.  0.  0.  0.  0.  0.  0.  0.]\n"
     ]
    }
   ],
   "source": [
    "# verify that vectorization works\n",
    "results = features_train[0:3] - features_test[0]\n",
    "print results[0] - (features_train[0]-features_test[0])\n",
    "# should print all 0's if results[0] == (features_train[0]-features_test[0])\n",
    "print results[1] - (features_train[1]-features_test[0])\n",
    "# should print all 0's if results[1] == (features_train[1]-features_test[0])\n",
    "print results[2] - (features_train[2]-features_test[0])\n",
    "# should print all 0's if results[2] == (features_train[2]-features_test[0])"
   ]
  },
  {
   "cell_type": "code",
   "execution_count": 17,
   "metadata": {
    "collapsed": true
   },
   "outputs": [],
   "source": [
    "diff = -features_test[0]+features_train[0:]"
   ]
  },
  {
   "cell_type": "code",
   "execution_count": 18,
   "metadata": {
    "collapsed": false
   },
   "outputs": [
    {
     "data": {
      "text/plain": [
       "-0.093433960584180104"
      ]
     },
     "execution_count": 18,
     "metadata": {},
     "output_type": "execute_result"
    }
   ],
   "source": [
    "diff[-1].sum()"
   ]
  },
  {
   "cell_type": "code",
   "execution_count": 19,
   "metadata": {
    "collapsed": false
   },
   "outputs": [
    {
     "name": "stdout",
     "output_type": "stream",
     "text": [
      "0.00330705902879\n",
      "0.00330705902879\n"
     ]
    }
   ],
   "source": [
    "print np.sum(diff**2, axis=1)[15] # take sum of squares across each row, and print the 16th sum\n",
    "print np.sum(diff[15]**2)"
   ]
  },
  {
   "cell_type": "code",
   "execution_count": 20,
   "metadata": {
    "collapsed": true
   },
   "outputs": [],
   "source": [
    "distances_all = np.sqrt(np.sum(diff**2,axis=1))"
   ]
  },
  {
   "cell_type": "code",
   "execution_count": 21,
   "metadata": {
    "collapsed": false
   },
   "outputs": [
    {
     "name": "stdout",
     "output_type": "stream",
     "text": [
      "0.0237082324496\n"
     ]
    }
   ],
   "source": [
    "print distances_all[100]"
   ]
  },
  {
   "cell_type": "code",
   "execution_count": 22,
   "metadata": {
    "collapsed": true
   },
   "outputs": [],
   "source": [
    "def distance_from_query_to_all(feature_matrix,query):\n",
    "    difference = query - feature_matrix[0:]\n",
    "    return np.sqrt(np.sum(difference**2,axis=1))"
   ]
  },
  {
   "cell_type": "code",
   "execution_count": 23,
   "metadata": {
    "collapsed": false
   },
   "outputs": [
    {
     "data": {
      "text/plain": [
       "array([ 0.01954476,  0.06861035,  0.02165079, ...,  0.02433478,\n",
       "        0.02622734,  0.02637942])"
      ]
     },
     "execution_count": 23,
     "metadata": {},
     "output_type": "execute_result"
    }
   ],
   "source": [
    "distance2 = distance_from_query_to_all(features_train,features_test[2])\n",
    "#len(distance2)\n",
    "distance2"
   ]
  },
  {
   "cell_type": "code",
   "execution_count": 24,
   "metadata": {
    "collapsed": false
   },
   "outputs": [
    {
     "name": "stdout",
     "output_type": "stream",
     "text": [
      "0.00286049526751\n",
      "382\n"
     ]
    }
   ],
   "source": [
    "print min(distance2)\n",
    "for i in xrange(len(distance2)):\n",
    "    if(distance2[i]==min(distance2)):\n",
    "        print i"
   ]
  },
  {
   "cell_type": "code",
   "execution_count": 25,
   "metadata": {
    "collapsed": false
   },
   "outputs": [
    {
     "data": {
      "text/plain": [
       "249000L"
      ]
     },
     "execution_count": 25,
     "metadata": {},
     "output_type": "execute_result"
    }
   ],
   "source": [
    "train[382]['price']"
   ]
  },
  {
   "cell_type": "code",
   "execution_count": 26,
   "metadata": {
    "collapsed": true
   },
   "outputs": [],
   "source": [
    "def get_matrix(data,indexes):\n",
    "    result = []\n",
    "    for i in xrange(len(indexes)):\n",
    "        result.insert(i,data[indexes[i]])\n",
    "    return result"
   ]
  },
  {
   "cell_type": "code",
   "execution_count": 27,
   "metadata": {
    "collapsed": false
   },
   "outputs": [],
   "source": [
    "def k_nearest_neighbour(k,features_matrix,query):\n",
    "    k_houses = features_matrix[0:k]  # selecting the first k houses as the nearest neighbours\n",
    "    distance_k_houses = distance_from_query_to_all(k_houses,query) #array of distances of k nearest houses\n",
    "    ##print \"nearest distances matrix:\",distance_k_houses\n",
    "    sorted_distance_index=np.argsort(distance_k_houses)    #index - distance ,can also beused to find the house number\n",
    "    #print \"index of the sorted above matrix :\",sorted_distance_index\n",
    "    #Now sorting the matrix according to the values\n",
    "    sorted_distance_value = get_matrix(distance_k_houses,sorted_distance_index)   # value - distance ascending order of distances\n",
    "    ##print \"sorted nearest values initial :\",sorted_distance_value\n",
    "    ##print \"****************************\"\n",
    "    sorted_house =get_matrix(train[0:k],sorted_distance_index) #check train or features matrix\n",
    "    for i in xrange(k,len(features_matrix)): #check k or k+1\n",
    "        distance_i_to_q = distance(features_matrix[i],query)\n",
    "        ##print \"distance_i_to_q\",distance_i_to_q\n",
    "        ##print \"sorted nearest values :\",sorted_distance_value\n",
    "        ##print \"condition:\",(distance_i_to_q < sorted_distance_value[k-1])\n",
    "        if (distance_i_to_q < sorted_distance_value[k-1]):         \n",
    "            #if distance of i <last value in sorted list then we find a value of j such that the i'th\n",
    "            #distance falls between j-1 and j\n",
    "            j=1\n",
    "            found_j = 0\n",
    "            while(j<k):\n",
    "                if((sorted_distance_value[j-1]<distance_i_to_q) & (sorted_distance_value[j]>distance_i_to_q)):\n",
    "                    ##print \"front one : \",sorted_distance_value[j-1]\n",
    "                    ##print \"back_one : \",sorted_distance_value[j]\n",
    "                    ##print j\n",
    "                    found_j = j\n",
    "                j = j+1\n",
    "            sorted_house[found_j+1:k] =sorted_house[found_j:k-1]\n",
    "            sorted_house[found_j] = train[i]\n",
    "            sorted_distance_value[found_j+1:k] = sorted_distance_value[found_j:k-1]\n",
    "            sorted_distance_value[found_j] = distance_i_to_q\n",
    "            ##print \"sorted house before entry :\",sorted_distance_index\n",
    "            sorted_distance_index[found_j+1:k] = sorted_distance_index[found_j:k-1]\n",
    "            ##print \"sorted house after entry :\",sorted_distance_index\n",
    "            sorted_distance_index[found_j] = i\n",
    "            ##print \"sorted house after insert :\",sorted_distance_index\n",
    "            ##print \"--------------\"\n",
    "    return sorted_house,sorted_distance_index\n",
    "            \n",
    "    \n",
    "    \n",
    "    "
   ]
  },
  {
   "cell_type": "code",
   "execution_count": 28,
   "metadata": {
    "collapsed": false
   },
   "outputs": [
    {
     "name": "stdout",
     "output_type": "stream",
     "text": [
      "[ 382 1149 4087 3142]\n"
     ]
    }
   ],
   "source": [
    "house,index = k_nearest_neighbour(4,features_train,features_test[2])\n",
    "print index"
   ]
  },
  {
   "cell_type": "code",
   "execution_count": 29,
   "metadata": {
    "collapsed": true
   },
   "outputs": [],
   "source": [
    "def single_value(k,features_matrix,output,query):\n",
    "    sorted_houses,house_indexes = k_nearest_neighbour(k,features_matrix,query)\n",
    "    k_house_price=0\n",
    "    for i in xrange(len(house_indexes)):\n",
    "        k_house_price += output[house_indexes[i]]\n",
    "        #print \"house single average : \",k_house_price/k\n",
    "    return k_house_price/k"
   ]
  },
  {
   "cell_type": "code",
   "execution_count": 30,
   "metadata": {
    "collapsed": false
   },
   "outputs": [
    {
     "data": {
      "text/plain": [
       "413987L"
      ]
     },
     "execution_count": 30,
     "metadata": {},
     "output_type": "execute_result"
    }
   ],
   "source": [
    "single_value(4,features_train,train['price'],features_test[2])"
   ]
  },
  {
   "cell_type": "code",
   "execution_count": 31,
   "metadata": {
    "collapsed": false
   },
   "outputs": [],
   "source": [
    "def make_n_predictions(k,features_matrix,output,features_query):\n",
    "    predictions = []\n",
    "    for i in xrange(len(features_query)):\n",
    "        predictions.insert(i,single_value(k,features_matrix,train['price'],features_query[i:i+1]))\n",
    "    return predictions\n",
    "        "
   ]
  },
  {
   "cell_type": "code",
   "execution_count": 44,
   "metadata": {
    "collapsed": false
   },
   "outputs": [
    {
     "data": {
      "text/plain": [
       "[881300L,\n",
       " 431860L,\n",
       " 460595L,\n",
       " 430200L,\n",
       " 766750L,\n",
       " 667420L,\n",
       " 350032L,\n",
       " 512800L,\n",
       " 484000L,\n",
       " 457235L]"
      ]
     },
     "execution_count": 44,
     "metadata": {},
     "output_type": "execute_result"
    }
   ],
   "source": [
    "n=10\n",
    "predictions_n = make_n_predictions(10,features_train,train['price'],features_test[0:n])\n",
    "predictions_n"
   ]
  },
  {
   "cell_type": "code",
   "execution_count": 45,
   "metadata": {
    "collapsed": false
   },
   "outputs": [
    {
     "name": "stdout",
     "output_type": "stream",
     "text": [
      "Original :  [650000L, 485000L, 438000L, 535000L, 785000L, 975000L, 287000L, 355000L, 305000L, 518500L]\n",
      " predicted :  [881300L, 431860L, 460595L, 430200L, 766750L, 667420L, 350032L, 512800L, 484000L, 457235L]\n",
      "350032\n"
     ]
    }
   ],
   "source": [
    "print \"Original : \",test[0:10]['price']\n",
    "print \" predicted : \",predictions_n[0:10]\n",
    "print min(predictions_n)"
   ]
  },
  {
   "cell_type": "code",
   "execution_count": 46,
   "metadata": {
    "collapsed": false
   },
   "outputs": [
    {
     "name": "stdout",
     "output_type": "stream",
     "text": [
      "0\n",
      "881300\n",
      "1\n",
      "431860\n",
      "2\n",
      "460595\n",
      "3\n",
      "430200\n",
      "4\n",
      "766750\n",
      "5\n",
      "667420\n",
      "6\n",
      "350032\n",
      "7\n",
      "512800\n",
      "8\n",
      "484000\n",
      "9\n",
      "457235\n"
     ]
    }
   ],
   "source": [
    "for i in range(10):\n",
    "    print i\n",
    "    value_prediction = single_value(10,features_train,train['price'],features_test[i])\n",
    "    print value_prediction"
   ]
  },
  {
   "cell_type": "code",
   "execution_count": 34,
   "metadata": {
    "collapsed": false
   },
   "outputs": [],
   "source": [
    "def getsPriceList(data):\n",
    "    arr =[]\n",
    "    for i in xrange(len(data)):\n",
    "        arr.append(data[i])\n",
    "    return arr"
   ]
  },
  {
   "cell_type": "code",
   "execution_count": 35,
   "metadata": {
    "collapsed": false
   },
   "outputs": [
    {
     "name": "stdout",
     "output_type": "stream",
     "text": [
      "hiii\n",
      "started\n",
      "K: 1\n",
      "sum 570768235779838\n",
      "K: 2\n",
      "sum 924881676842338\n",
      "K: 3\n",
      "sum 616048111574618\n",
      "K: 4\n",
      "sum 495719669804632\n",
      "K: 5\n",
      "sum 424644427829538\n",
      "K: 6\n",
      "sum 398209314837781\n",
      "K: 7\n",
      "sum 342333129183960\n",
      "K: 8\n",
      "sum 289514713709798\n",
      "K: 9\n",
      "sum 253424482136494\n",
      "K: 10\n",
      "sum 233195310638813\n",
      "K: 11\n",
      "sum 236136196287218\n",
      "K: 12\n",
      "sum 232809092470678\n",
      "K: 13\n",
      "sum 224935236427166\n",
      "K: 14\n",
      "sum 216658616699125\n",
      "K: 15\n",
      "sum 211412973135760\n",
      "[570768235779838L, 924881676842338L, 616048111574618L, 495719669804632L, 424644427829538L, 398209314837781L, 342333129183960L, 289514713709798L, 253424482136494L, 233195310638813L, 236136196287218L, 232809092470678L, 224935236427166L, 216658616699125L, 211412973135760L]\n"
     ]
    }
   ],
   "source": [
    "#Choosing best value of k\n",
    "print \"hiii\"\n",
    "rss_min = []\n",
    "price_list = getsPriceList(validation['price'])\n",
    "print \"started\"\n",
    "for k in range(1,16): #now a particular k is selected \n",
    "    predictions =0\n",
    "    print \"K:\",k\n",
    "    list_for_single_k = []\n",
    "    for i in xrange(0,len(feature_matrix_valid)):#len(feature_matrix_valid)):\n",
    "        #predicting for a particular k,the predicted values.\n",
    "        predictions = single_value(k,features_train,train['price'],feature_matrix_valid[i])\n",
    "        error = predictions - price_list[i]\n",
    "        error = error**2\n",
    "        list_for_single_k.insert(i,error)\n",
    "    rss_min.insert(k-1,sum(list_for_single_k))\n",
    "    print \"sum\",sum(list_for_single_k)\n",
    "print rss_min"
   ]
  },
  {
   "cell_type": "code",
   "execution_count": 36,
   "metadata": {
    "collapsed": false
   },
   "outputs": [
    {
     "data": {
      "text/plain": [
       "211412973135760L"
      ]
     },
     "execution_count": 36,
     "metadata": {},
     "output_type": "execute_result"
    }
   ],
   "source": [
    "min(rss_min)"
   ]
  },
  {
   "cell_type": "code",
   "execution_count": 47,
   "metadata": {
    "collapsed": false
   },
   "outputs": [
    {
     "data": {
      "text/plain": [
       "14"
      ]
     },
     "execution_count": 47,
     "metadata": {},
     "output_type": "execute_result"
    }
   ],
   "source": [
    "rss_min.index(min(rss_min))"
   ]
  },
  {
   "cell_type": "code",
   "execution_count": null,
   "metadata": {
    "collapsed": false
   },
   "outputs": [],
   "source": []
  },
  {
   "cell_type": "code",
   "execution_count": 40,
   "metadata": {
    "collapsed": false
   },
   "outputs": [
    {
     "data": {
      "text/plain": [
       "14"
      ]
     },
     "execution_count": 40,
     "metadata": {},
     "output_type": "execute_result"
    }
   ],
   "source": [
    "rss_min.index(min(rss_min))"
   ]
  },
  {
   "cell_type": "code",
   "execution_count": 41,
   "metadata": {
    "collapsed": false
   },
   "outputs": [
    {
     "data": {
      "text/plain": [
       "[<matplotlib.lines.Line2D at 0x2bf40358>]"
      ]
     },
     "execution_count": 41,
     "metadata": {},
     "output_type": "execute_result"
    },
    {
     "data": {
      "image/png": "[encoded data removed]",
      "text/plain": [
       "<matplotlib.figure.Figure at 0x1958aa58>"
      ]
     },
     "metadata": {},
     "output_type": "display_data"
    }
   ],
   "source": [
    "import matplotlib.pyplot as plt\n",
    "%matplotlib inline\n",
    "\n",
    "kvals = range(1, 16)\n",
    "plt.plot(kvals, rss_min,'bo-')"
   ]
  },
  {
   "cell_type": "code",
   "execution_count": 49,
   "metadata": {
    "collapsed": false
   },
   "outputs": [
    {
     "name": "stdout",
     "output_type": "stream",
     "text": [
      "320353905432087\n"
     ]
    }
   ],
   "source": [
    "rss_1 = 0\n",
    "price_list1 = getsPriceList(test['price'])\n",
    "for i in xrange(len(feature_matrix_test)):\n",
    "    predictions_z = single_value(15,features_train,train['price'],feature_matrix_test[i])\n",
    "    error = predictions_z - price_list1[i]\n",
    "    error = error**2\n",
    "    rss_1 = rss_1+error\n",
    "    #print error\n",
    "print rss_1\n"
   ]
  },
  {
   "cell_type": "code",
   "execution_count": null,
   "metadata": {
    "collapsed": true
   },
   "outputs": [],
   "source": []
  }
 ],
 "metadata": {
  "kernelspec": {
   "display_name": "Python 2",
   "language": "python",
   "name": "python2"
  },
  "language_info": {
   "codemirror_mode": {
    "name": "ipython",
    "version": 2
   },
   "file_extension": ".py",
   "mimetype": "text/x-python",
   "name": "python",
   "nbconvert_exporter": "python",
   "pygments_lexer": "ipython2",
   "version": "2.7.10"
  }
 },
 "nbformat": 4,
 "nbformat_minor": 0
}
